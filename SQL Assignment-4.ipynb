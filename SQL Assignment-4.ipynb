{
 "cells": [
  {
   "cell_type": "code",
   "execution_count": null,
   "id": "b7cb9263",
   "metadata": {},
   "outputs": [],
   "source": [
    "Q-1. Write an SQL query to print the FIRST_NAME from Worker table after replacing ‘a’ with ‘A’.\n",
    "\n",
    "Ans-1 select replace(first_name, 'a' , 'A') from worker'"
   ]
  },
  {
   "cell_type": "code",
   "execution_count": null,
   "id": "7786fb84",
   "metadata": {},
   "outputs": [],
   "source": [
    "Q-2. Write an SQL query to print all Worker details from the Worker table order by FIRST_NAME Ascending and DEPARTMENT Descending.\n",
    "\n",
    "Ans-2 SELECT * FROM worker ORDER BY first_name ASC, department DESC;\n"
   ]
  },
  {
   "cell_type": "code",
   "execution_count": null,
   "id": "0b8e7530",
   "metadata": {},
   "outputs": [],
   "source": [
    "Q-3. Write an SQL query to fetch the names of workers who earn the highest salary.\n",
    "\n",
    "Ans-3 \n",
    "SELECT w.First_Name, w.Salary \n",
    "FROM (SELECT w.*, RANK() OVER (ORDER BY Salary DESC) as Seq\n",
    "      FROM worker w\n",
    "     ) w\n",
    "WHERE seq = 1;"
   ]
  },
  {
   "cell_type": "code",
   "execution_count": null,
   "id": "18f91b40",
   "metadata": {},
   "outputs": [],
   "source": []
  },
  {
   "cell_type": "code",
   "execution_count": null,
   "id": "df4442ee",
   "metadata": {},
   "outputs": [],
   "source": []
  }
 ],
 "metadata": {
  "kernelspec": {
   "display_name": "Python 3 (ipykernel)",
   "language": "python",
   "name": "python3"
  },
  "language_info": {
   "codemirror_mode": {
    "name": "ipython",
    "version": 3
   },
   "file_extension": ".py",
   "mimetype": "text/x-python",
   "name": "python",
   "nbconvert_exporter": "python",
   "pygments_lexer": "ipython3",
   "version": "3.9.12"
  }
 },
 "nbformat": 4,
 "nbformat_minor": 5
}
