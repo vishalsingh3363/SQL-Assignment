{
 "cells": [
  {
   "cell_type": "markdown",
   "id": "4ad39ccf",
   "metadata": {},
   "source": [
    "Q-1. Write an SQL query to fetch “FIRST_NAME” from Worker table using the alias\n",
    "name as <WORKER_NAME>\n",
    "\n",
    "Ans-1 SELECT FIRST_NAME as WORKER_NAME from  Worker\n"
   ]
  },
  {
   "cell_type": "markdown",
   "id": "3ca5331b",
   "metadata": {},
   "source": [
    "Q-2. Write an SQL query to fetch unique values of DEPARTMENT from Worker table.\n",
    "\n",
    "Ans-2 select distinct DEPARTMENT from worker table"
   ]
  },
  {
   "cell_type": "markdown",
   "id": "9d25cb64",
   "metadata": {},
   "source": [
    "Q-3. Write an SQL query to show the last 5 record from a table.\n",
    "\n",
    "Ans-3 select * from worker order by worker_id DESC limit 5"
   ]
  }
 ],
 "metadata": {
  "kernelspec": {
   "display_name": "Python 3 (ipykernel)",
   "language": "python",
   "name": "python3"
  },
  "language_info": {
   "codemirror_mode": {
    "name": "ipython",
    "version": 3
   },
   "file_extension": ".py",
   "mimetype": "text/x-python",
   "name": "python",
   "nbconvert_exporter": "python",
   "pygments_lexer": "ipython3",
   "version": "3.9.12"
  }
 },
 "nbformat": 4,
 "nbformat_minor": 5
}
