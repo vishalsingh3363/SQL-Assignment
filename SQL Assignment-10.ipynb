{
 "cells": [
  {
   "cell_type": "code",
   "execution_count": null,
   "id": "2b5973d5",
   "metadata": {},
   "outputs": [],
   "source": [
    "Q-1. Write an SQL query to determine the 5th highest salary without using TOP or limit method.\n",
    "\n",
    "Ans-1 \n",
    "SELECT TOP 1 Salary\n",
    "FROM (\n",
    "      SELECT DISTINCT TOP 5 Salary\n",
    "      FROM Employee\n",
    "      ORDER BY Salary DESC\n",
    "      ) AS Emp\n",
    "ORDER BY Salary"
   ]
  },
  {
   "cell_type": "code",
   "execution_count": null,
   "id": "20929664",
   "metadata": {},
   "outputs": [],
   "source": [
    "Q-2. Write an SQL query to fetch the list of employees with the same salary.\n",
    "\n",
    "Ans-2 \n",
    "SELECT NAME, sTATION, SALARY  FROM DATATAB\n",
    "WHERE SALARY IN \n",
    "(\n",
    "   SELECT Salary\n",
    "   FROM datatab\n",
    "   GROUP BY Salary\n",
    "   HAVING COUNT(1) > 1"
   ]
  }
 ],
 "metadata": {
  "kernelspec": {
   "display_name": "Python 3 (ipykernel)",
   "language": "python",
   "name": "python3"
  },
  "language_info": {
   "codemirror_mode": {
    "name": "ipython",
    "version": 3
   },
   "file_extension": ".py",
   "mimetype": "text/x-python",
   "name": "python",
   "nbconvert_exporter": "python",
   "pygments_lexer": "ipython3",
   "version": "3.9.12"
  }
 },
 "nbformat": 4,
 "nbformat_minor": 5
}
