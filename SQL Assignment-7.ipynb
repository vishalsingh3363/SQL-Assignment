{
 "cells": [
  {
   "cell_type": "code",
   "execution_count": null,
   "id": "ff992e2a",
   "metadata": {},
   "outputs": [],
   "source": [
    "Q-1. Write an SQL query to show only odd rows from a table.\n",
    "\n",
    "Ans-1 Select * from MEN where (RowID % 2) = 1\n"
   ]
  },
  {
   "cell_type": "code",
   "execution_count": null,
   "id": "f82176c4",
   "metadata": {},
   "outputs": [],
   "source": [
    "Q-2. Write an SQL query to clone a new table from another table.\n",
    "\n",
    "Ans-2\n",
    "CREATE TABLE Contact List(Clone_1) LIKE Original_table;\n",
    "CREATE TABLE Contact List(Clone_1) AS SELECT * FROM Original_table;"
   ]
  }
 ],
 "metadata": {
  "kernelspec": {
   "display_name": "Python 3 (ipykernel)",
   "language": "python",
   "name": "python3"
  },
  "language_info": {
   "codemirror_mode": {
    "name": "ipython",
    "version": 3
   },
   "file_extension": ".py",
   "mimetype": "text/x-python",
   "name": "python",
   "nbconvert_exporter": "python",
   "pygments_lexer": "ipython3",
   "version": "3.9.12"
  }
 },
 "nbformat": 4,
 "nbformat_minor": 5
}
