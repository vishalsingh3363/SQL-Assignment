{
 "cells": [
  {
   "cell_type": "code",
   "execution_count": null,
   "id": "e22ec25d",
   "metadata": {},
   "outputs": [],
   "source": [
    "Q-1. Write an SQL query to fetch intersecting records of two tables.\n",
    "\n",
    "Ans-1\n",
    "select * from student_details_1\n",
    "intersect\n",
    "select * from student_details_2"
   ]
  },
  {
   "cell_type": "code",
   "execution_count": null,
   "id": "1de32a2e",
   "metadata": {},
   "outputs": [],
   "source": [
    "Q-2. Write an SQL query to show records from one table that another table does not have.\n",
    "\n",
    "Ans-2 \n",
    "select * from student_details_1\n",
    "except \n",
    "select * from student_details_2"
   ]
  }
 ],
 "metadata": {
  "kernelspec": {
   "display_name": "Python 3 (ipykernel)",
   "language": "python",
   "name": "python3"
  },
  "language_info": {
   "codemirror_mode": {
    "name": "ipython",
    "version": 3
   },
   "file_extension": ".py",
   "mimetype": "text/x-python",
   "name": "python",
   "nbconvert_exporter": "python",
   "pygments_lexer": "ipython3",
   "version": "3.9.12"
  }
 },
 "nbformat": 4,
 "nbformat_minor": 5
}
