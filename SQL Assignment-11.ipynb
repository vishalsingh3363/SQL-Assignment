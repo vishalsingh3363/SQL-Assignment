{
 "cells": [
  {
   "cell_type": "code",
   "execution_count": null,
   "id": "96397b3b",
   "metadata": {},
   "outputs": [],
   "source": [
    "Q-1 Find-Duplicates-and-Show-the-Count\n",
    "\n",
    "\n",
    "Ans-1\n",
    "SELECT OrderID, COUNT(OrderID)\n",
    "FROM Orders\n",
    "GROUP BY OrderID\n",
    "HAVING COUNT(OrderID) > 1"
   ]
  }
 ],
 "metadata": {
  "kernelspec": {
   "display_name": "Python 3 (ipykernel)",
   "language": "python",
   "name": "python3"
  },
  "language_info": {
   "codemirror_mode": {
    "name": "ipython",
    "version": 3
   },
   "file_extension": ".py",
   "mimetype": "text/x-python",
   "name": "python",
   "nbconvert_exporter": "python",
   "pygments_lexer": "ipython3",
   "version": "3.9.12"
  }
 },
 "nbformat": 4,
 "nbformat_minor": 5
}
