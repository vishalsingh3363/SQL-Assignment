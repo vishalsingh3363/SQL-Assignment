{
 "cells": [
  {
   "cell_type": "code",
   "execution_count": null,
   "id": "f7e4f974",
   "metadata": {},
   "outputs": [],
   "source": [
    "Q-1. Write an SQL query to print the first three characters of  FIRST_NAME from Worker table.\n",
    "\n",
    "Ans-1 SELECT SUBSTRING(first_name, 1, 3) FROM worker;"
   ]
  },
  {
   "cell_type": "code",
   "execution_count": null,
   "id": "b7173a4d",
   "metadata": {},
   "outputs": [],
   "source": [
    "Q-2. Write an SQL query to find the position of the alphabet (‘a’) in the first name column ‘Amitabh’ from Worker table.\n",
    "\n",
    "Ans-2 select instr('Amitabh', 'a') from worker;"
   ]
  },
  {
   "cell_type": "code",
   "execution_count": null,
   "id": "3837e961",
   "metadata": {},
   "outputs": [],
   "source": [
    "Q-3. Write an SQL query to print the name of employees having the highest salary in each department.\n",
    "\n",
    "Ans-3 select max(salary), department from employee GROUP BY department:"
   ]
  }
 ],
 "metadata": {
  "kernelspec": {
   "display_name": "Python 3 (ipykernel)",
   "language": "python",
   "name": "python3"
  },
  "language_info": {
   "codemirror_mode": {
    "name": "ipython",
    "version": 3
   },
   "file_extension": ".py",
   "mimetype": "text/x-python",
   "name": "python",
   "nbconvert_exporter": "python",
   "pygments_lexer": "ipython3",
   "version": "3.9.12"
  }
 },
 "nbformat": 4,
 "nbformat_minor": 5
}
