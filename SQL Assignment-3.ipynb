{
 "cells": [
  {
   "cell_type": "code",
   "execution_count": null,
   "id": "2f35dcb2",
   "metadata": {},
   "outputs": [],
   "source": [
    "Q-1. Write an SQL query to print the FIRST_NAME from Worker table after removing white spaces from the right side.\n",
    "\n",
    "Ans-1 SELECT RTRIM(first_name) FROM worker;\n"
   ]
  },
  {
   "cell_type": "code",
   "execution_count": null,
   "id": "042ec312",
   "metadata": {},
   "outputs": [],
   "source": [
    "Q-2. Write an SQL query that fetches the unique values of DEPARTMENT from Worker table and prints its length.\n",
    "\n",
    "Ans-2 select distinct DEPARTMENT , LENGTH(DEPARTMENT) AS departmentnamelength from worker;"
   ]
  },
  {
   "cell_type": "code",
   "execution_count": null,
   "id": "14c08853",
   "metadata": {},
   "outputs": [],
   "source": [
    "Q-3. Write an SQL query to fetch nth max salaries from a table.\n",
    "\n",
    "Ans-3 select max(salary) from employee;"
   ]
  }
 ],
 "metadata": {
  "kernelspec": {
   "display_name": "Python 3 (ipykernel)",
   "language": "python",
   "name": "python3"
  },
  "language_info": {
   "codemirror_mode": {
    "name": "ipython",
    "version": 3
   },
   "file_extension": ".py",
   "mimetype": "text/x-python",
   "name": "python",
   "nbconvert_exporter": "python",
   "pygments_lexer": "ipython3",
   "version": "3.9.12"
  }
 },
 "nbformat": 4,
 "nbformat_minor": 5
}
