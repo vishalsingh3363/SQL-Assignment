{
 "cells": [
  {
   "cell_type": "code",
   "execution_count": null,
   "id": "5bbb3285",
   "metadata": {},
   "outputs": [],
   "source": [
    "Q-1. Write an SQL query to print details of the Workers who have joined in Feb’2014.\n",
    "\n",
    "Ans-1 SELECT * FROM worker WHERE year(joining_date) = 2014 AND month(joining_date) = 2;"
   ]
  },
  {
   "cell_type": "code",
   "execution_count": null,
   "id": "cf5f92a4",
   "metadata": {},
   "outputs": [],
   "source": [
    "Q-2. Write an SQL query to fetch duplicate records having matching data in some fields of a table.\n",
    "\n",
    "Ans-2 SELECT name, email FROM users GROUP BY name, email HAVING ( COUNT(*) > 1 )"
   ]
  },
  {
   "cell_type": "markdown",
   "id": "f4fa7ceb",
   "metadata": {},
   "source": [
    "Q-3. How to remove duplicate rows from Employees table.\n",
    "\n",
    "Ans-3 DELETE FROM DETAILS WHERE SN NOT IN (SELECT MAX(SN) FROM DETAILS GROUP BY EMPNAME,DEPT,CONTACTNO,CITY)"
   ]
  },
  {
   "cell_type": "code",
   "execution_count": null,
   "id": "ff97f49e",
   "metadata": {},
   "outputs": [],
   "source": []
  }
 ],
 "metadata": {
  "kernelspec": {
   "display_name": "Python 3 (ipykernel)",
   "language": "python",
   "name": "python3"
  },
  "language_info": {
   "codemirror_mode": {
    "name": "ipython",
    "version": 3
   },
   "file_extension": ".py",
   "mimetype": "text/x-python",
   "name": "python",
   "nbconvert_exporter": "python",
   "pygments_lexer": "ipython3",
   "version": "3.9.12"
  }
 },
 "nbformat": 4,
 "nbformat_minor": 5
}
