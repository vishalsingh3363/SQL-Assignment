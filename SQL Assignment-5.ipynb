{
 "cells": [
  {
   "cell_type": "code",
   "execution_count": null,
   "id": "4ee71f7f",
   "metadata": {},
   "outputs": [],
   "source": [
    "Q-1. Write an SQL query to print details of workers excluding first names, “Vipul” and “Satish” from Worker table.\n",
    "\n",
    "Ans-1 select * from worker where first_name NOT IN (\"Vipul\",\"Satish\");"
   ]
  },
  {
   "cell_type": "code",
   "execution_count": null,
   "id": "667658cb",
   "metadata": {},
   "outputs": [],
   "source": [
    "Q-2. Write an SQL query to print details of the Workers whose FIRST_NAME ends with ‘h’ and contains six alphabets.\n",
    "\n",
    "Ans-2 SELECT * FROM worker WHERE first_name LIKE \"_____h\";"
   ]
  },
  {
   "cell_type": "code",
   "execution_count": null,
   "id": "3903a0e7",
   "metadata": {},
   "outputs": [],
   "source": [
    "Q-3. Write a query to validate Email of Employee.\n",
    "\n",
    "Ans-3 SELECT * FROM student WHERE email LIKE '%@gmail.com';"
   ]
  }
 ],
 "metadata": {
  "kernelspec": {
   "display_name": "Python 3 (ipykernel)",
   "language": "python",
   "name": "python3"
  },
  "language_info": {
   "codemirror_mode": {
    "name": "ipython",
    "version": 3
   },
   "file_extension": ".py",
   "mimetype": "text/x-python",
   "name": "python",
   "nbconvert_exporter": "python",
   "pygments_lexer": "ipython3",
   "version": "3.9.12"
  }
 },
 "nbformat": 4,
 "nbformat_minor": 5
}
