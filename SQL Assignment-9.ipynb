{
 "cells": [
  {
   "cell_type": "code",
   "execution_count": null,
   "id": "80a3faa0",
   "metadata": {},
   "outputs": [],
   "source": [
    "Q-1. Write an SQL query to show the top n (say 10) records of a table.\n",
    "\n",
    "Ans-1 \n",
    "select * from employee where condition limit 10;"
   ]
  },
  {
   "cell_type": "code",
   "execution_count": null,
   "id": "91dcf71c",
   "metadata": {},
   "outputs": [],
   "source": [
    "Q-2. Write an SQL query to determine the nth (say n=5) highest salary from a table.\n",
    "\n",
    "Ans-2\n",
    "SELECT Salary FROM Employee ORDER BY Salary DESC LIMIT n-1,1"
   ]
  }
 ],
 "metadata": {
  "kernelspec": {
   "display_name": "Python 3 (ipykernel)",
   "language": "python",
   "name": "python3"
  },
  "language_info": {
   "codemirror_mode": {
    "name": "ipython",
    "version": 3
   },
   "file_extension": ".py",
   "mimetype": "text/x-python",
   "name": "python",
   "nbconvert_exporter": "python",
   "pygments_lexer": "ipython3",
   "version": "3.9.12"
  }
 },
 "nbformat": 4,
 "nbformat_minor": 5
}
